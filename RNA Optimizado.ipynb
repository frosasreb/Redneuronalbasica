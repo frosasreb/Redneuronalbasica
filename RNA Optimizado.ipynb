{
 "cells": [
  {
   "cell_type": "code",
   "execution_count": 3,
   "metadata": {},
   "outputs": [],
   "source": [
    "import numpy"
   ]
  },
  {
   "cell_type": "code",
   "execution_count": 1,
   "metadata": {},
   "outputs": [],
   "source": [
    "class RedNeuronal:\n",
    "    def __init__(self, entrada, WIntHid, WHidOut, TarOut, learning_rate): #Inicializar\n",
    "        self.xin = numpy.array(entrada, ndmin=2).T\n",
    "        self.learning_rate = learning_rate\n",
    "        self.pesosSalida = WHidOut\n",
    "        self.pesosEntrada = WIntHid\n",
    "        self.entrada = entrada\n",
    "        self.SalidaEsperada = TarOut\n",
    "        pass\n",
    "    \n",
    "    def RNAout(self):  #Evaluar la RNA\n",
    "        hidden = numpy.dot(self.pesosEntrada, self.xin) #capa oculta\n",
    "        self.hidden = hidden\n",
    "        outputRNA = numpy.dot(self.pesosSalida, hidden) #capa de salida\n",
    "        self.outputRNA = outputRNA\n",
    "        return outputRNA\n",
    "    \n",
    "    def training(self):  #Aprendizaje\n",
    "        Erroroutput1 = numpy.subtract(self.SalidaEsperada, self.outputRNA) #Error en la salida\n",
    "        Erroroutput = Erroroutput1*learning_rate         #Error * factor de aprendizaje\n",
    "        hidden1 = numpy.array(self.hidden, ndmin=2).T   #Valor proveniente de la capa oculta\n",
    "        deltaoutput = numpy.dot(Erroroutput, hidden1)   #valor a modificarse en los pesos de la salida\n",
    "        NuevospesosOut = self.pesosSalida + deltaoutput    #modificacion en los pesos de la salida\n",
    "        Pesossalida1 = numpy.array(Pesossalida, ndmin=2).T  \n",
    "        ErrorWout = numpy.dot(Pesossalida1, Erroroutput1)  #Factor de error * pesos de la salida\n",
    "        Entrada1 = numpy.array(self.entrada, ndmin=2).T   \n",
    "        ErrorWout1 = numpy.array(ErrorWout, ndmin=2).T\n",
    "        EIn1 = numpy.dot(Entrada1, ErrorWout1) \n",
    "        EIn2 = numpy.array(EIn1, ndmin=2).T\n",
    "        deltaint = (EIn2*self.entrada)*learning_rate   #valor a modificarse en los pesos de la entrada\n",
    "        NuevospesosIn = Pesosentrada + deltaint         #modificacion en los pesos de la entrada\n",
    "        self.pesosSalida = NuevospesosOut\n",
    "        self.pesosEntrada = NuevospesosIn\n",
    "        return [NuevospesosIn, NuevospesosOut];\n",
    "    "
   ]
  },
  {
   "cell_type": "code",
   "execution_count": 24,
   "metadata": {},
   "outputs": [
    {
     "data": {
      "text/plain": [
       "array([[-0.73128494],\n",
       "       [-0.50833633],\n",
       "       [ 0.0372085 ]])"
      ]
     },
     "execution_count": 24,
     "metadata": {},
     "output_type": "execute_result"
    }
   ],
   "source": [
    "learning_rate = 0.3                      #Factor de aprendizaje\n",
    "entrada = numpy.array([1, 0.25, -0.5])                    #Entradas\n",
    "salidaEsperada = numpy.array([1, -1, 0], ndmin=2).T       #Salida esperada\n",
    "\n",
    "#Pesos de ejemplo\n",
    "#Pesosentrada = numpy.array([[0.5, 2, 0.75], [1.5, 1, -2]])      \n",
    "#Pesossalida = numpy.array([[-0.5, 0.5], [-1, -0.2], [0.1, -0.2]])\n",
    "\n",
    "#Para pesos al azar\n",
    "Pesosentrada = numpy.random.uniform(-1, 1, (2,3))         \n",
    "Pesossalida = numpy.random.uniform(-1, 1, (3,2))\n",
    "\n",
    "\n",
    "RNA = RedNeuronal(entrada, Pesosentrada, Pesossalida, salidaEsperada, learning_rate) \n",
    "RNA.RNAout() #Evaluar la RNA por primera vez "
   ]
  },
  {
   "cell_type": "code",
   "execution_count": 25,
   "metadata": {},
   "outputs": [
    {
     "name": "stdout",
     "output_type": "stream",
     "text": [
      "[array([[ 0.23687443,  0.74409527,  0.01959705],\n",
      "       [ 0.17644467, -0.41561382,  0.3948472 ]]), array([[ 2.6950092 ,  0.6627088 ],\n",
      "       [-2.00744708,  0.41735642],\n",
      "       [-0.31319726,  0.84180504]])]\n"
     ]
    },
    {
     "data": {
      "text/plain": [
       "array([[ 1.0305469 ],\n",
       "       [-0.8813963 ],\n",
       "       [-0.23450833]])"
      ]
     },
     "execution_count": 25,
     "metadata": {},
     "output_type": "execute_result"
    }
   ],
   "source": [
    "iteraciones=10\n",
    "\n",
    "for _ in range(iteraciones):\n",
    "    NuevosW = RNA.training()\n",
    "\n",
    "print (NuevosW)\n",
    "RNA.RNAout()"
   ]
  },
  {
   "cell_type": "code",
   "execution_count": null,
   "metadata": {},
   "outputs": [],
   "source": []
  }
 ],
 "metadata": {
  "kernelspec": {
   "display_name": "Python 3",
   "language": "python",
   "name": "python3"
  },
  "language_info": {
   "codemirror_mode": {
    "name": "ipython",
    "version": 3
   },
   "file_extension": ".py",
   "mimetype": "text/x-python",
   "name": "python",
   "nbconvert_exporter": "python",
   "pygments_lexer": "ipython3",
   "version": "3.8.5"
  }
 },
 "nbformat": 4,
 "nbformat_minor": 4
}
